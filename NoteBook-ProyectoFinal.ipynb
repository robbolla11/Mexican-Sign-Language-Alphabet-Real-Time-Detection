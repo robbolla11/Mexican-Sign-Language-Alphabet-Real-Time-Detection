{
 "cells": [
  {
   "cell_type": "markdown",
   "metadata": {},
   "source": [
    "Detector de Lenguaje de Señas en tiempo real\n",
    "\n",
    "Jesús Roberto Bollaín y Goytia Campos\n",
    "Angel Yael Alcántara González"
   ]
  },
  {
   "cell_type": "code",
   "execution_count": 1,
   "metadata": {},
   "outputs": [],
   "source": [
    "import pickle\n",
    "import cv2\n",
    "import mediapipe as mp\n",
    "import numpy as np\n",
    "import warnings"
   ]
  },
  {
   "cell_type": "code",
   "execution_count": 2,
   "metadata": {},
   "outputs": [],
   "source": [
    "model_dict = pickle.load(open('./model.p', 'rb')) #modelo entrenado con Random Forest\n",
    "model = model_dict['model']\n",
    "\n",
    "\n",
    "#Setup de mediapipe\n",
    "mp_hands = mp.solutions.hands\n",
    "mp_drawing = mp.solutions.drawing_utils\n",
    "mp_drawing_styles = mp.solutions.drawing_styles\n",
    "\n",
    "#solo permitimos que el modelo agarre 1 mano por razones de logica\n",
    "hands = mp_hands.Hands(static_image_mode=True, min_detection_confidence=0.6, max_num_hands=1)\n",
    "\n",
    "letras = ['A', 'B', 'C', 'D', 'E', 'F', 'G', 'H', 'I', 'J', 'K', 'L', 'M', 'N', 'O', 'P', 'Q', 'R', 'S', 'T', 'U', 'V', 'W', 'X', 'Y', 'Z', 'HOLA']\n",
    "letrasDicc = {letra: letra for letra in letras}\n",
    "\n",
    "\n",
    "#esto solo para quitar un warning molesto que no afecta\n",
    "warnings.filterwarnings('ignore')"
   ]
  },
  {
   "cell_type": "code",
   "execution_count": 3,
   "metadata": {},
   "outputs": [
    {
     "ename": "",
     "evalue": "",
     "output_type": "error",
     "traceback": [
      "\u001b[1;31mEl kernel se bloqueó al ejecutar código en la celda actual o en una celda anterior. \n",
      "\u001b[1;31mRevise el código de las celdas para identificar una posible causa del error. \n",
      "\u001b[1;31mHaga clic <a href='https://aka.ms/vscodeJupyterKernelCrash'>aquí</a> para obtener más información. \n",
      "\u001b[1;31mVea Jupyter <a href='command:jupyter.viewOutput'>log</a> para obtener más detalles."
     ]
    }
   ],
   "source": [
    "cap = cv2.VideoCapture(0) #creo que hay que cambiar el 0 por otro num dependiendo del dispositivo\n",
    "letrasGuardadas = []\n",
    "\n",
    "while True:\n",
    "    dataNorm = []\n",
    "    xLand = [] #landmarks\n",
    "    yLand = []\n",
    "    zLand = []\n",
    "\n",
    "    ret, img = cap.read()\n",
    "    img = cv2.flip(img, 1)\n",
    "    height, width, _ = img.shape\n",
    "\n",
    "    fuenteLetra = cv2.FONT_HERSHEY_COMPLEX\n",
    "\n",
    "    img_rgb = cv2.cvtColor(img, cv2.COLOR_BGR2RGB)\n",
    "\n",
    "    resultados = hands.process(img_rgb)\n",
    "    if resultados.multi_hand_landmarks:\n",
    "        for hand_landmarks in resultados.multi_hand_landmarks: #dibujo de las lineas de manos en video\n",
    "            mp_drawing.draw_landmarks(\n",
    "                img,\n",
    "                hand_landmarks,\n",
    "                mp_hands.HAND_CONNECTIONS,\n",
    "                mp_drawing_styles.get_default_hand_landmarks_style(),\n",
    "                mp_drawing_styles.get_default_hand_connections_style()\n",
    "            )\n",
    "\n",
    "        for hand_landmarks in resultados.multi_hand_landmarks: #guardar los landmarks\n",
    "            for i in range(len(hand_landmarks.landmark)):\n",
    "                x = hand_landmarks.landmark[i].x\n",
    "                y = hand_landmarks.landmark[i].y\n",
    "                z = hand_landmarks.landmark[i].z\n",
    "\n",
    "                xLand.append(x)\n",
    "                yLand.append(y)\n",
    "                zLand.append(z)\n",
    "\n",
    "        #normalizacion, rendimiento no cambia mucho pero siento que es mejor con esta\n",
    "        #es necesaria pq el modelo fue entrenado con datos normalizados \n",
    "        for i in range(len(hand_landmarks.landmark)):\n",
    "            x = hand_landmarks.landmark[i].x\n",
    "            y = hand_landmarks.landmark[i].y\n",
    "            z = hand_landmarks.landmark[i].z\n",
    "            dataNorm.append(x - min(xLand))\n",
    "            dataNorm.append(y - min(yLand))\n",
    "            dataNorm.append(z - min(zLand))\n",
    "            #dataNorm.append(xLand)\n",
    "            #dataNorm.append(yLand)\n",
    "            #dataNorm.append(zLand)\n",
    "\n",
    "        x1 = int(min(xLand) * width)\n",
    "        y1 = int(min(yLand) * height)\n",
    "\n",
    "        prediccion = model.predict([np.asarray(dataNorm)]) #prediccion con nuestro modelo segun los landmarks\n",
    "        letraPredicha = letrasDicc[prediccion[0]] #letra que devuelve\n",
    "\n",
    "        #letra actual con borde negro puesto horrible\n",
    "        cv2.putText(img, letraPredicha, (x1+10,y1-25), fuenteLetra, 1.6, (0, 0, 0), 6, cv2.LINE_AA) \n",
    "        cv2.putText(img, letraPredicha, (x1+10,y1-25), fuenteLetra, 1.6, (255, 255, 255), 2, cv2.LINE_AA)\n",
    "\n",
    "    key = cv2.waitKey(1)\n",
    "    if key == 13: #Enter\n",
    "        letrasGuardadas.append(letraPredicha) #guardamos letra al presionar enter\n",
    "    elif key == 32: #Espacio\n",
    "        letrasGuardadas.append(' ') #salto de linea\n",
    "    elif key == 8: #Backspace o como se llame <-\n",
    "        if letrasGuardadas:\n",
    "            letrasGuardadas.pop() #borramos ultimo caracter\n",
    "    elif key == 27: #Esc\n",
    "        break #salimos del programa\n",
    "\n",
    "    if len(letrasGuardadas) > 20: #si pasa de 20 letras, borramos todo\n",
    "        letrasGuardadas = []\n",
    "\n",
    "    palabraForm = ''.join(letrasGuardadas) #escribimos en la parte de abajo las letras guardadas\n",
    "    cv2.putText(img, palabraForm, (10, height - 10), fuenteLetra, 1.4, (0, 0, 0), 6, cv2.LINE_AA)\n",
    "    cv2.putText(img, palabraForm, (10, height - 10), fuenteLetra, 1.4, (255, 255, 255), 2, cv2.LINE_AA)\n",
    "    \n",
    "    cv2.imshow('img', img) #mostramos la imagen de la camara\n",
    "\n",
    "cap.release()\n",
    "cv2.destroyAllWindows()\n"
   ]
  }
 ],
 "metadata": {
  "kernelspec": {
   "display_name": "Python 3",
   "language": "python",
   "name": "python3"
  },
  "language_info": {
   "codemirror_mode": {
    "name": "ipython",
    "version": 3
   },
   "file_extension": ".py",
   "mimetype": "text/x-python",
   "name": "python",
   "nbconvert_exporter": "python",
   "pygments_lexer": "ipython3",
   "version": "3.11.1"
  }
 },
 "nbformat": 4,
 "nbformat_minor": 2
}
